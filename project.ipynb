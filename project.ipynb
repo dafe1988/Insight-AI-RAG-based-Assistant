{
 "cells": [
  {
   "cell_type": "code",
   "execution_count": 1,
   "id": "a2bbb888",
   "metadata": {},
   "outputs": [
    {
     "name": "stdout",
     "output_type": "stream",
     "text": [
      "Package                   Version\n",
      "------------------------- -----------\n",
      "asttokens                 3.0.0\n",
      "attrs                     25.3.0\n",
      "beautifulsoup4            4.13.5\n",
      "bs4                       0.0.2\n",
      "certifi                   2025.8.3\n",
      "charset-normalizer        3.4.3\n",
      "click                     8.3.0\n",
      "comm                      0.2.3\n",
      "contourpy                 1.3.2\n",
      "cycler                    0.12.1\n",
      "debugpy                   1.8.17\n",
      "decorator                 5.2.1\n",
      "exceptiongroup            1.3.0\n",
      "executing                 2.2.1\n",
      "fastjsonschema            2.21.2\n",
      "fonttools                 4.60.0\n",
      "idna                      3.10\n",
      "ipykernel                 6.30.1\n",
      "ipython                   8.37.0\n",
      "jedi                      0.19.2\n",
      "joblib                    1.5.2\n",
      "jsonschema                4.25.1\n",
      "jsonschema-specifications 2025.9.1\n",
      "jupyter_client            8.6.3\n",
      "jupyter_core              5.8.1\n",
      "kiwisolver                1.4.9\n",
      "matplotlib                3.10.6\n",
      "matplotlib-inline         0.1.7\n",
      "narwhals                  2.5.0\n",
      "nbformat                  5.10.4\n",
      "nest-asyncio              1.6.0\n",
      "nltk                      3.9.1\n",
      "numpy                     2.2.6\n",
      "packaging                 25.0\n",
      "pandas                    2.3.2\n",
      "parso                     0.8.5\n",
      "pexpect                   4.9.0\n",
      "pillow                    11.3.0\n",
      "pip                       25.2\n",
      "platformdirs              4.4.0\n",
      "plotly                    6.3.0\n",
      "prompt_toolkit            3.0.52\n",
      "psutil                    7.1.0\n",
      "ptyprocess                0.7.0\n",
      "pure_eval                 0.2.3\n",
      "Pygments                  2.19.2\n",
      "pyparsing                 3.2.5\n",
      "python-dateutil           2.9.0.post0\n",
      "pytz                      2025.2\n",
      "pyzmq                     27.1.0\n",
      "referencing               0.36.2\n",
      "regex                     2025.9.18\n",
      "requests                  2.32.5\n",
      "rpds-py                   0.27.1\n",
      "scikit-learn              1.7.2\n",
      "scipy                     1.15.3\n",
      "seaborn                   0.13.2\n",
      "setuptools                80.9.0\n",
      "six                       1.17.0\n",
      "soupsieve                 2.8\n",
      "stack-data                0.6.3\n",
      "threadpoolctl             3.6.0\n",
      "tornado                   6.5.2\n",
      "tqdm                      4.67.1\n",
      "traitlets                 5.14.3\n",
      "typing_extensions         4.15.0\n",
      "tzdata                    2025.2\n",
      "urllib3                   2.5.0\n",
      "wcwidth                   0.2.14\n",
      "wheel                     0.45.1\n",
      "wordcloud                 1.9.4\n"
     ]
    }
   ],
   "source": [
    "!pip list"
   ]
  },
  {
   "cell_type": "code",
   "execution_count": null,
   "id": "6db21303",
   "metadata": {},
   "outputs": [],
   "source": []
  }
 ],
 "metadata": {
  "kernelspec": {
   "display_name": "RAG Project",
   "language": "python",
   "name": "rag_env"
  },
  "language_info": {
   "codemirror_mode": {
    "name": "ipython",
    "version": 3
   },
   "file_extension": ".py",
   "mimetype": "text/x-python",
   "name": "python",
   "nbconvert_exporter": "python",
   "pygments_lexer": "ipython3",
   "version": "3.10.16"
  }
 },
 "nbformat": 4,
 "nbformat_minor": 5
}
